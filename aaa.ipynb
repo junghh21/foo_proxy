{
 "cells": [
  {
   "cell_type": "code",
   "execution_count": 40,
   "id": "a409d42d",
   "metadata": {},
   "outputs": [],
   "source": [
    "import ssl\n",
    "import requests\n",
    "import asyncio\n",
    "import aiohttp\n",
    "import json\n",
    "import struct\n",
    "\n",
    "url = \"https://localhost:10000/params\"\n",
    "url = \"https://m1-foo.onrender.com/params\"\n",
    "data = {\n",
    "\t\"bin\": \"000000200f300dc8bf8c5b6a3e2488925723c46b6a21c28b431e0719a0b7a3f7692ef1eeb86cc6f4899cf72298bf8b067f3ff5f94a749b161925cc7d8650e7bf4d2287ca26899a68f7f10c1d00000000\",\n",
    "\t\"nuo\": \"b77176be\",\n",
    "\t\"id\": \"0\"\n",
    "}  # Replace with your payload\n",
    "ALGO = struct.pack(\"<I\", 11).hex()\n",
    "JOB_ID = int(\"EF32\", 16).to_bytes(4, byteorder='little').hex()\n",
    "MASK = struct.pack(\"<I\", 0x0004ffbf).hex()\n",
    "COUNT = struct.pack(\"<I\", 200).hex()\n",
    "data['bin'] = ALGO + \\\n",
    "\t\t\t\t\t\t\tJOB_ID + \\\n",
    "\t\t\t\t\t\t\tdata['bin'] + \\\n",
    "\t\t\t\t\t\t\tMASK + \\\n",
    "\t\t\t\t\t\t\tCOUNT\n",
    "async def post1():\n",
    "\ttry:\n",
    "\t\tssl_context = ssl.create_default_context()\n",
    "\t\tssl_context.check_hostname = False\n",
    "\t\tssl_context.verify_mode = ssl.CERT_NONE\n",
    "\t\tasync with aiohttp.ClientSession() as session:\n",
    "\t\t\tasync with session.post(url, json=data, ssl=ssl_context) as response:\n",
    "\t\t\t\t\tasync for line in response.content:\n",
    "\t\t\t\t\t\tresult = json.loads(line.decode('utf-8').strip())\n",
    "\t\t\t\t\t\t#print(result)\n",
    "\t\t\t\t\t\tif \"result\" in result:\n",
    "\t\t\t\t\t\t\tif result[\"result\"] == 'True':\n",
    "\t\t\t\t\t\t\t\talgo, job_id, bin, mask = struct.unpack('<II32sI', bytes.fromhex(result['bin']))\n",
    "\t\t\t\t\t\t\t\tprint(algo, f\"{job_id:04x}\", bin.hex(), f\"{mask:08x}\")\n",
    "\texcept asyncio.CancelledError:\n",
    "\t\tprint(\"Task was cancelled!\")\n",
    "\t\t#raise  # Optional: re-raise to propagate\n",
    "\n",
    "for _ in range(1):\n",
    "\tawait asyncio.wait_for(post1(), 90)\n",
    "\t#await asyncio.sleep(1)"
   ]
  },
  {
   "cell_type": "code",
   "execution_count": 7,
   "id": "babf8cb2",
   "metadata": {},
   "outputs": [
    {
     "name": "stdout",
     "output_type": "stream",
     "text": [
      "Task was cancelled!\n"
     ]
    }
   ],
   "source": [
    "import ssl\n",
    "import requests\n",
    "import asyncio\n",
    "import aiohttp\n",
    "import json\n",
    "import struct\n",
    "\n",
    "url = \"https://localhost:10000/params\"\n",
    "url = \"https://m1-foo.onrender.com/params\"\n",
    "data = {\n",
    "\t\"bin\": \"000000200f300dc8bf8c5b6a3e2488925723c46b6a21c28b431e0719a0b7a3f7692ef1eeb86cc6f4899cf72298bf8b067f3ff5f94a749b161925cc7d8650e7bf4d2287ca26899a68f7f10c1d00000000\",\n",
    "\t\"no\": \"b77176be\",\n",
    "\t\"id\": \"0\"\n",
    "}  # Replace with your payload\n",
    "ALGO = struct.pack(\"<I\", 11).hex()\n",
    "JOB_ID = int(\"EF32\", 16).to_bytes(4, byteorder='little').hex()\n",
    "MASK = struct.pack(\"<I\", 0x0004ffbf).hex()\n",
    "COUNT = struct.pack(\"<I\", 200).hex()\n",
    "data['bin'] = ALGO + \\\n",
    "\t\t\t\t\t\t\tJOB_ID + \\\n",
    "\t\t\t\t\t\t\tdata['bin'] + \\\n",
    "\t\t\t\t\t\t\tMASK + \\\n",
    "\t\t\t\t\t\t\tCOUNT\n",
    "async def post1():\n",
    "\ttry:\n",
    "\t\tssl_context = ssl.create_default_context()\n",
    "\t\tssl_context.check_hostname = False\n",
    "\t\tssl_context.verify_mode = ssl.CERT_NONE\n",
    "\t\tasync with aiohttp.ClientSession() as session:\n",
    "\t\t\tasync with session.post(url, json=data, ssl=ssl_context) as response:\n",
    "\t\t\t\t\tasync for line in response.content:\n",
    "\t\t\t\t\t\tresult = json.loads(line.decode('utf-8').strip())\n",
    "\t\t\t\t\t\t#print(result)\n",
    "\t\t\t\t\t\tif \"result\" in result:\n",
    "\t\t\t\t\t\t\tif result[\"result\"] == 'True':\n",
    "\t\t\t\t\t\t\t\talgo, job_id, bin, mask = struct.unpack('<II32sI', bytes.fromhex(result['bin']))\n",
    "\t\t\t\t\t\t\t\tprint(algo, f\"{job_id:04x}\", bin.hex(), f\"{mask:08x}\")\n",
    "\texcept asyncio.CancelledError:\n",
    "\t\tprint(\"Task was cancelled!\")\n",
    "\t\t#raise  # Optional: re-raise to propagate\n",
    "\n",
    "for _ in range(1):\n",
    "\tawait asyncio.wait_for(post1(), 100)\n",
    "\t#await asyncio.sleep(1)"
   ]
  },
  {
   "cell_type": "code",
   "execution_count": 77,
   "id": "f02e9900",
   "metadata": {},
   "outputs": [
    {
     "name": "stdout",
     "output_type": "stream",
     "text": [
      "11 ef32 d4c6186ad5c3f2f004fa86f92d7cdd30e8c04b6b80353da3f01abbc7e1e30000 0000e3e1\n"
     ]
    }
   ],
   "source": [
    "result = {'result': 'True', 'bin': '0b00000032ef0000d4c6186ad5c3f2f004fa86f92d7cdd30e8c04b6b80353da3f01abbc7e1e30000e1e30000', 'no': 'b7717e30'}\n",
    "algo, job_id, bin, mask = struct.unpack('<II32sI', bytes.fromhex(result['bin']))\n",
    "print(algo, f\"{job_id:04x}\", bin.hex(), f\"{mask:08x}\")"
   ]
  },
  {
   "cell_type": "code",
   "execution_count": 31,
   "id": "07b5af02",
   "metadata": {},
   "outputs": [
    {
     "ename": "CancelledError",
     "evalue": "",
     "output_type": "error",
     "traceback": [
      "\u001b[0;31m---------------------------------------------------------------------------\u001b[0m",
      "\u001b[0;31mCancelledError\u001b[0m                            Traceback (most recent call last)",
      "Cell \u001b[0;32mIn[31], line 29\u001b[0m\n\u001b[1;32m     27\u001b[0m executor \u001b[38;5;241m=\u001b[39m ProcessPoolExecutor(max_workers\u001b[38;5;241m=\u001b[39mos\u001b[38;5;241m.\u001b[39mcpu_count())\n\u001b[1;32m     28\u001b[0m \u001b[38;5;28;01mwhile\u001b[39;00m \u001b[38;5;28;01mTrue\u001b[39;00m:\n\u001b[0;32m---> 29\u001b[0m \t\u001b[38;5;28mbin\u001b[39m, no, ret \u001b[38;5;241m=\u001b[39m \u001b[38;5;28;01mawait\u001b[39;00m loop\u001b[38;5;241m.\u001b[39mrun_in_executor(\n\u001b[1;32m     30\u001b[0m \t\texecutor, y1\u001b[38;5;241m.\u001b[39mfoo, \u001b[38;5;28mbytes\u001b[39m\u001b[38;5;241m.\u001b[39mfromhex(data[\u001b[38;5;124m'\u001b[39m\u001b[38;5;124mbin\u001b[39m\u001b[38;5;124m'\u001b[39m]), \u001b[38;5;28mint\u001b[39m(data[\u001b[38;5;124m'\u001b[39m\u001b[38;5;124mno\u001b[39m\u001b[38;5;124m'\u001b[39m], \u001b[38;5;241m16\u001b[39m)\n\u001b[1;32m     31\u001b[0m \t)\n\u001b[1;32m     32\u001b[0m \u001b[38;5;66;03m#foo (bytes.fromhex(data['bin']), int(data['no'], 16))\u001b[39;00m\n",
      "\u001b[0;31mCancelledError\u001b[0m: "
     ]
    }
   ],
   "source": [
    "import y1\n",
    "import pickle\n",
    "import os\n",
    "\n",
    "with open('data.pickle', 'wb') as f:\n",
    "    pickle.dump(y1.foo, f)\n",
    "\n",
    "with open('data.pickle', 'rb') as f:\n",
    "    foo = pickle.load(f)\n",
    "\n",
    "data = {\n",
    "\t\"bin\": \"000000200f300dc8bf8c5b6a3e2488925723c46b6a21c28b431e0719a0b7a3f7692ef1eeb86cc6f4899cf72298bf8b067f3ff5f94a749b161925cc7d8650e7bf4d2287ca26899a68f7f10c1d00000000\",\n",
    "\t\"no\": \"b77176be\",\n",
    "\t\"id\": \"0\"\n",
    "}  # Replace with your payload\n",
    "ALGO = struct.pack(\"<I\", 11).hex()\n",
    "JOB_ID = int(\"EF32\", 16).to_bytes(4, byteorder='little').hex()\n",
    "MASK = struct.pack(\"<I\", 0x0004ffbf).hex()\n",
    "COUNT = struct.pack(\"<I\", 200).hex()\n",
    "data['bin'] = ALGO + \\\n",
    "\t\t\t\t\t\t\tJOB_ID + \\\n",
    "\t\t\t\t\t\t\tdata['bin'] + \\\n",
    "\t\t\t\t\t\t\tMASK + \\\n",
    "\t\t\t\t\t\t\tCOUNT\n",
    "loop = asyncio.get_running_loop()\n",
    "from concurrent.futures import ProcessPoolExecutor\n",
    "executor = ProcessPoolExecutor(max_workers=os.cpu_count())\n",
    "while True:\n",
    "\tbin, no, ret = await loop.run_in_executor(\n",
    "\t\texecutor, y1.foo, bytes.fromhex(data['bin']), int(data['no'], 16)\n",
    "\t)\n",
    "#foo (bytes.fromhex(data['bin']), int(data['no'], 16))"
   ]
  }
 ],
 "metadata": {
  "kernelspec": {
   "display_name": "Python 3",
   "language": "python",
   "name": "python3"
  },
  "language_info": {
   "codemirror_mode": {
    "name": "ipython",
    "version": 3
   },
   "file_extension": ".py",
   "mimetype": "text/x-python",
   "name": "python",
   "nbconvert_exporter": "python",
   "pygments_lexer": "ipython3",
   "version": "3.10.12"
  }
 },
 "nbformat": 4,
 "nbformat_minor": 5
}
